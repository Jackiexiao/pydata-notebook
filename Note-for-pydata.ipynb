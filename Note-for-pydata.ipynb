{
 "cells": [
  {
   "cell_type": "markdown",
   "metadata": {},
   "source": [
    "这本书关心的是如何用Python对数据进行处理和清洗等操作\n",
    "\n",
    "* [anaconda command]()\n",
    "* [jupyter totorial]()\n",
    "* [numpy tutorial](https://docs.scipy.org/doc/numpy/user/quickstart.html)\n",
    "* [matplotlib tutorial]()\n",
    "* [scipy tutorial]()\n",
    "* [pandas tutorial]()\n",
    "* [scikit-learn tutorial](http://scikit-learn.org/stable/documentation.html)\n",
    "\n",
    "其他\n",
    "* [tmux tutorial和配置](https://www.jianshu.com/p/fd3bbdba9dc9)\n",
    "* [python字符编码问题](http://liujiacai.net/blog/2015/11/20/strings/)\n",
    "* [github-cheat-sheet-zh](https://github.com/tiimgreen/github-cheat-sheet/blob/master/README.zh-cn.md)\n",
    "* [统计学中的协方差,相关系数概念](https://www.zhihu.com/question/20852004)"
   ]
  },
  {
   "cell_type": "markdown",
   "metadata": {},
   "source": [
    "#### 术语表\n",
    "\n",
    "* pseudocode 英 ['sjuːdəʊ]\n",
    "* Jargon 美['dʒɑrɡən] 行话\n",
    "* ndarray numpy的多维数组对象"
   ]
  },
  {
   "cell_type": "markdown",
   "metadata": {},
   "source": [
    "### python基础（常用表达方法）\n",
    "```\n",
    "for i in range(len(number))\n",
    "'yes' if x>0 else 'false'\n",
    "\n",
    "template = '{0:.2f} {1:s} are worth US${2:d}'\n",
    "template.format(4.5560, 'Argentine Pesos', 1)\n",
    "\n",
    "#读取文件\n",
    "with open(filename) as f:\n",
    "    lines = [x.rstrip() for x in f]\n",
    "```"
   ]
  },
  {
   "cell_type": "markdown",
   "metadata": {},
   "source": [
    "### Numpy\n",
    "see official [tutorial](https://docs.scipy.org/doc/numpy/user/quickstart.html)\n",
    "\n",
    "下面是这个tutorial的简单笔记,复习请见cheat sheet"
   ]
  },
  {
   "cell_type": "code",
   "execution_count": 68,
   "metadata": {},
   "outputs": [
    {
     "name": "stdout",
     "output_type": "stream",
     "text": [
      "[[1 2 3]\n",
      " [4 5 6]]\n"
     ]
    }
   ],
   "source": [
    "import numpy as np\n",
    "\n",
    "num = np.array([[1,2,3],[4,5,6]])\n",
    "#更好的方法是\n",
    "num = np.arange(1,7).reshape(2,3)\n",
    "print(num)\n",
    "#The first axis has a length of 2, \n",
    "#the second axis has a length of 3.\n"
   ]
  },
  {
   "cell_type": "markdown",
   "metadata": {},
   "source": [
    "### numpy 异同\n",
    "* np.eyes 和 np.identity\n",
    "* np.arange 和 np.linspace"
   ]
  },
  {
   "cell_type": "markdown",
   "metadata": {},
   "source": [
    "### ndarray的多维数组\n",
    "自己容易弄错，所以单独讲一下"
   ]
  },
  {
   "cell_type": "code",
   "execution_count": 48,
   "metadata": {},
   "outputs": [
    {
     "name": "stdout",
     "output_type": "stream",
     "text": [
      "[[[ 0  1  2  3]\n",
      "  [ 4  5  6  7]\n",
      "  [ 8  9 10 11]]\n",
      "\n",
      " [[12 13 14 15]\n",
      "  [16 17 18 19]\n",
      "  [20 21 22 23]]]\n",
      "axis=0\n",
      "[[12 14 16 18]\n",
      " [20 22 24 26]\n",
      " [28 30 32 34]]\n",
      "axis=1\n",
      "[[12 15 18 21]\n",
      " [48 51 54 57]]\n",
      "axis=2\n",
      "[[ 6 22 38]\n",
      " [54 70 86]]\n"
     ]
    }
   ],
   "source": [
    "# 3d array and its axes\n",
    "c = np.arange(24).reshape(2,3,4) \n",
    "print(c)\n",
    "print('axis=0')\n",
    "print(c.sum(axis=0)) #这里是一个垂直轴，所以0+12=12 4+16=20\n",
    "print('axis=1')\n",
    "print(c.sum(axis=1))\n",
    "print('axis=2')\n",
    "print(c.sum(axis=2))"
   ]
  },
  {
   "cell_type": "code",
   "execution_count": 45,
   "metadata": {},
   "outputs": [
    {
     "name": "stdout",
     "output_type": "stream",
     "text": [
      "[[ 1  2  3  4]\n",
      " [ 5  6  7  8]\n",
      " [ 9 10 11 12]]\n",
      "[15 18 21 24]\n"
     ]
    }
   ],
   "source": [
    "b = np.arange(1,13).reshape(3,4)\n",
    "print(b)\n",
    "print(b.sum(axis=0)) #顺着axis的轴合计计算"
   ]
  },
  {
   "cell_type": "markdown",
   "metadata": {},
   "source": [
    "### numpy索引\n",
    "其实只需要明白下面的等价关系就可以了\n",
    "* `a[x,y] ==> a[x][y]`\n",
    "* `a[0] ==> a[0, :]==> a[0, ...]`\n",
    "* **dots** `...`的用法：如果a有5个axes，则，`a[1, ..., 2] ==> a[1, :, :, :, 2]`"
   ]
  },
  {
   "cell_type": "code",
   "execution_count": 57,
   "metadata": {},
   "outputs": [
    {
     "name": "stdout",
     "output_type": "stream",
     "text": [
      "[1 2 3 4 5 6 7 8 9]\n",
      "[9 8 7 6 5 4 3 2 1]\n",
      "[10  2 10  4 10  6  7  8  9]\n"
     ]
    }
   ],
   "source": [
    "a = np.arange(1,10,1)\n",
    "print(a)\n",
    "print(a[: : -1]) # reversed\n",
    "a[:6:2]= 10 #神奇的赋值操作\n",
    "print(a)\n"
   ]
  },
  {
   "cell_type": "code",
   "execution_count": 59,
   "metadata": {},
   "outputs": [
    {
     "data": {
      "text/plain": [
       "array([[ 0,  1,  2,  3],\n",
       "       [10, 11, 12, 13],\n",
       "       [20, 21, 22, 23],\n",
       "       [30, 31, 32, 33],\n",
       "       [40, 41, 42, 43]])"
      ]
     },
     "execution_count": 59,
     "metadata": {},
     "output_type": "execute_result"
    }
   ],
   "source": [
    "def f(x,y):\n",
    "    return 10*x+y\n",
    "a = np.fromfunction(f, (5,4), dtype=int)\n",
    "a"
   ]
  },
  {
   "cell_type": "code",
   "execution_count": 60,
   "metadata": {},
   "outputs": [
    {
     "data": {
      "text/plain": [
       "23"
      ]
     },
     "execution_count": 60,
     "metadata": {},
     "output_type": "execute_result"
    }
   ],
   "source": [
    "a[2,3]"
   ]
  },
  {
   "cell_type": "code",
   "execution_count": 61,
   "metadata": {},
   "outputs": [
    {
     "data": {
      "text/plain": [
       "23"
      ]
     },
     "execution_count": 61,
     "metadata": {},
     "output_type": "execute_result"
    }
   ],
   "source": [
    "a[2][3]"
   ]
  },
  {
   "cell_type": "code",
   "execution_count": 62,
   "metadata": {},
   "outputs": [
    {
     "data": {
      "text/plain": [
       "array([ 0, 10, 20, 30, 40])"
      ]
     },
     "execution_count": 62,
     "metadata": {},
     "output_type": "execute_result"
    }
   ],
   "source": [
    "a[0:5, 0]"
   ]
  },
  {
   "cell_type": "code",
   "execution_count": 64,
   "metadata": {},
   "outputs": [
    {
     "data": {
      "text/plain": [
       "array([[11, 12],\n",
       "       [21, 22]])"
      ]
     },
     "execution_count": 64,
     "metadata": {},
     "output_type": "execute_result"
    }
   ],
   "source": [
    "a[1:3, 1:3]"
   ]
  },
  {
   "cell_type": "code",
   "execution_count": 65,
   "metadata": {},
   "outputs": [
    {
     "data": {
      "text/plain": [
       "array([0, 1, 2, 3])"
      ]
     },
     "execution_count": 65,
     "metadata": {},
     "output_type": "execute_result"
    }
   ],
   "source": [
    "a[0]"
   ]
  },
  {
   "cell_type": "code",
   "execution_count": 66,
   "metadata": {},
   "outputs": [
    {
     "data": {
      "text/plain": [
       "array([0, 1, 2, 3])"
      ]
     },
     "execution_count": 66,
     "metadata": {},
     "output_type": "execute_result"
    }
   ],
   "source": [
    "a[0, :]"
   ]
  },
  {
   "cell_type": "markdown",
   "metadata": {},
   "source": [
    "**列表中的遍历操作**  \n",
    "`for element in a.flat`"
   ]
  },
  {
   "cell_type": "markdown",
   "metadata": {},
   "source": [
    "### numpy shape操作\n",
    "下面的操作不改变原来的a,而是返回一个新的"
   ]
  },
  {
   "cell_type": "code",
   "execution_count": 70,
   "metadata": {},
   "outputs": [
    {
     "data": {
      "text/plain": [
       "array([[ 0,  1,  2,  3],\n",
       "       [ 4,  5,  6,  7],\n",
       "       [ 8,  9, 10, 11]])"
      ]
     },
     "execution_count": 70,
     "metadata": {},
     "output_type": "execute_result"
    }
   ],
   "source": [
    "a = np.arange(12).reshape(3,4)\n",
    "a"
   ]
  },
  {
   "cell_type": "code",
   "execution_count": 71,
   "metadata": {},
   "outputs": [
    {
     "data": {
      "text/plain": [
       "array([ 0,  1,  2,  3,  4,  5,  6,  7,  8,  9, 10, 11])"
      ]
     },
     "execution_count": 71,
     "metadata": {},
     "output_type": "execute_result"
    }
   ],
   "source": [
    "a.reshape(12) # 1 dimension equivalent to a.ravel()"
   ]
  },
  {
   "cell_type": "code",
   "execution_count": 74,
   "metadata": {},
   "outputs": [
    {
     "data": {
      "text/plain": [
       "array([[ 0,  1,  2,  3,  4,  5,  6,  7,  8,  9, 10, 11]])"
      ]
     },
     "execution_count": 74,
     "metadata": {},
     "output_type": "execute_result"
    }
   ],
   "source": [
    "a.reshape(1,12) # 2 dimension"
   ]
  },
  {
   "cell_type": "code",
   "execution_count": 76,
   "metadata": {},
   "outputs": [
    {
     "data": {
      "text/plain": [
       "array([[ 0,  4,  8],\n",
       "       [ 1,  5,  9],\n",
       "       [ 2,  6, 10],\n",
       "       [ 3,  7, 11]])"
      ]
     },
     "execution_count": 76,
     "metadata": {},
     "output_type": "execute_result"
    }
   ],
   "source": [
    "a.T"
   ]
  },
  {
   "cell_type": "code",
   "execution_count": 79,
   "metadata": {},
   "outputs": [
    {
     "data": {
      "text/plain": [
       "array([[ 0,  1,  2,  3,  4,  5],\n",
       "       [ 6,  7,  8,  9, 10, 11]])"
      ]
     },
     "execution_count": 79,
     "metadata": {},
     "output_type": "execute_result"
    }
   ],
   "source": [
    "# but this one modify itself\n",
    "a.resize(2,6)\n",
    "a"
   ]
  },
  {
   "cell_type": "markdown",
   "metadata": {},
   "source": [
    "### numpy stacking\n",
    "* np.vstack((a, b))\n",
    "* np.hstack((a, b))\n",
    "* a[:, np.newaxis] #增加一个新的轴\n",
    "* np.concatenate #下面的直接help命令查用法吧\n",
    "* np.r_\n",
    "* np.c_"
   ]
  },
  {
   "cell_type": "code",
   "execution_count": 81,
   "metadata": {
    "collapsed": true
   },
   "outputs": [],
   "source": [
    "np.full?"
   ]
  },
  {
   "cell_type": "code",
   "execution_count": 83,
   "metadata": {},
   "outputs": [
    {
     "data": {
      "text/plain": [
       "array([[7, 7],\n",
       "       [7, 7],\n",
       "       [7, 7]])"
      ]
     },
     "execution_count": 83,
     "metadata": {},
     "output_type": "execute_result"
    }
   ],
   "source": [
    "e = np.full((3,2), 7)\n",
    "e"
   ]
  },
  {
   "cell_type": "code",
   "execution_count": 105,
   "metadata": {},
   "outputs": [
    {
     "name": "stdout",
     "output_type": "stream",
     "text": [
      "[[0.0564403  0.47493228 0.20812884 0.5467776 ]\n",
      " [0.1188882  0.34005564 0.80132848 0.6581348 ]\n",
      " [0.77168612 0.58976652 0.9918916  0.24498047]]\n",
      "[0.77168612 0.58976652 0.9918916  0.6581348 ]\n",
      "[2 2 2 1]\n"
     ]
    }
   ],
   "source": [
    "text = np.random.random((3,4))\n",
    "print(text)\n",
    "print(text.max(axis=0))\n",
    "print(text.argmax(axis=0))"
   ]
  },
  {
   "cell_type": "code",
   "execution_count": 93,
   "metadata": {},
   "outputs": [
    {
     "data": {
      "text/plain": [
       "array([[0, 0, 0, 0],\n",
       "       [0, 0, 0, 0],\n",
       "       [0, 0, 0, 0]])"
      ]
     },
     "execution_count": 93,
     "metadata": {},
     "output_type": "execute_result"
    }
   ],
   "source": [
    "text.astype(int)"
   ]
  },
  {
   "cell_type": "markdown",
   "metadata": {},
   "source": [
    "#### 比较两个数组是否相等\n",
    "* np.all(a == b)\n",
    "* np.array_equal(a, b)\n",
    "#### 相当重要的fancy indexing\n",
    "直接看tutorial吧= = "
   ]
  },
  {
   "cell_type": "code",
   "execution_count": 117,
   "metadata": {},
   "outputs": [
    {
     "name": "stdout",
     "output_type": "stream",
     "text": [
      "[[8. 6. 8. 9. 7. 8.]\n",
      " [7. 4. 1. 3. 0. 2.]\n",
      " [2. 5. 9. 9. 1. 6.]\n",
      " [9. 3. 2. 5. 3. 8.]]\n",
      "[[8. 6.]\n",
      " [7. 4.]\n",
      " [2. 5.]\n",
      " [9. 3.]]\n",
      "[[8. 9.]\n",
      " [1. 3.]\n",
      " [9. 9.]\n",
      " [2. 5.]]\n",
      "[[7. 8.]\n",
      " [0. 2.]\n",
      " [1. 6.]\n",
      " [3. 8.]]\n"
     ]
    },
    {
     "data": {
      "text/plain": [
       "[array([[8., 6., 8.],\n",
       "        [7., 4., 1.],\n",
       "        [2., 5., 9.],\n",
       "        [9., 3., 2.]]),\n",
       " array([], shape=(4, 0), dtype=float64),\n",
       " array([[8., 9., 7., 8.],\n",
       "        [1., 3., 0., 2.],\n",
       "        [9., 9., 1., 6.],\n",
       "        [2., 5., 3., 8.]])]"
      ]
     },
     "execution_count": 117,
     "metadata": {},
     "output_type": "execute_result"
    }
   ],
   "source": [
    "### ndarray split\n",
    "a = np.floor(10*np.random.random((4,6)))\n",
    "print(a)\n",
    "np.hsplit(a, 3)    # split into 3 ndarray\n",
    "np.hsplit(a, (3,2)) # split at 3 and 2 columns"
   ]
  },
  {
   "cell_type": "code",
   "execution_count": 125,
   "metadata": {},
   "outputs": [
    {
     "name": "stdout",
     "output_type": "stream",
     "text": [
      "[[ 0  1  2  3  4  5]\n",
      " [ 6  7  8  9 10 11]]\n",
      "[[ 0  1  2  3  4  5]\n",
      " [ 6  7  8  9 10 11]]\n",
      "[[ 0  1  2  3  4  5]\n",
      " [ 6  7  8  9 10 11]]\n"
     ]
    }
   ],
   "source": [
    "a = np.arange(12).reshape(2,6)\n",
    "b = a.view()\n",
    "print(a)\n",
    "#b.shape = 3,4 #这样不会改变a，是不是很神奇\n",
    "b.reshape(3,4) #这样会改变a\n",
    "print(b)\n",
    "print(a)"
   ]
  },
  {
   "cell_type": "markdown",
   "metadata": {},
   "source": [
    "### Functions and Methods Overview\n",
    "tutorial 这一节很重要，相当于一个cheat sheet了"
   ]
  },
  {
   "cell_type": "code",
   "execution_count": null,
   "metadata": {
    "collapsed": true
   },
   "outputs": [],
   "source": []
  }
 ],
 "metadata": {
  "kernelspec": {
   "display_name": "Python 3",
   "language": "python",
   "name": "python3"
  },
  "language_info": {
   "codemirror_mode": {
    "name": "ipython",
    "version": 3
   },
   "file_extension": ".py",
   "mimetype": "text/x-python",
   "name": "python",
   "nbconvert_exporter": "python",
   "pygments_lexer": "ipython3",
   "version": "3.6.3"
  }
 },
 "nbformat": 4,
 "nbformat_minor": 2
}
